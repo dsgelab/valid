{
 "cells": [
  {
   "cell_type": "code",
   "execution_count": null,
   "id": "fbf6c9d8",
   "metadata": {},
   "outputs": [],
   "source": [
    "! source /home/ivm/envs/valid_env/bin/activate\n",
    "import polars as pl\n",
    "import sys\n",
    "sys.path.append((\"/home/ivm/valid/scripts/utils/\"))\n",
    "from general_utils import *\n",
    "from model_eval_utils import compare_models\n",
    "# For shap\n",
    "from plot_utils import get_plot_names\n",
    "import pickle\n",
    "import shap\n",
    "\n",
    "%load_ext autoreload\n",
    "%autoreload 2"
   ]
  },
  {
   "cell_type": "code",
   "execution_count": null,
   "id": "d0bb17e3",
   "metadata": {},
   "outputs": [],
   "source": [
    "goal=\"y_MEAN_ABNORM\"\n",
    "file_descr = \"testv1_2022_w3\"\n",
    "lab_name = \"egfr\"\n",
    "base_date = datetime(2021,10,1)\n",
    "\n",
    "data = pl.read_parquet(\"/home/ivm/valid/data/processed_data/step1_clean/egfr_d1_herold-part_ld_2025-07-23.parquet\")\n",
    "train_dates = [\"2025-07-23\", \"2025-07-24\"]\n",
    "def check_dated_path(file_path_start):\n",
    "    for date in train_dates:\n",
    "        if os.path.exists(file_path_start+date+\"/preds_\"+date+\".parquet\"):\n",
    "            return True\n",
    "    return False\n",
    "\n",
    "def get_dated_path(file_path_start):\n",
    "    for date in train_dates:\n",
    "        if os.path.exists(file_path_start+date+\"/preds_\"+date+\".parquet\"):\n",
    "            return file_path_start+date+\"/preds_\"+date+\".parquet\"\n",
    "    return None\n",
    "\n",
    "train_goals = {\"logloss\": \"y_MEAN_ABNORM\", \"q75\": \"y_MEAN\", \"q25\": \"y_MEAN\", \"q10\": \"y_MEAN\", \"mae\": \"y_MEAN\"}\n",
    "\n",
    "\n",
    "lastval_long_filter = (pl.col.FINNGENID.is_in(data.filter(pl.col.DATE<base_date).filter((pl.col.DATE==pl.col.DATE.max()).over(\"FINNGENID\")).filter(pl.col.DATE.dt.year()<2020)[\"FINNGENID\"]))\n",
    "no_history_filter = (~pl.col.FINNGENID.is_in(data.filter(pl.col.DATE<base_date)[\"FINNGENID\"]))\n",
    "history_filter = (pl.col.FINNGENID.is_in(data.filter(pl.col.DATE<base_date)[\"FINNGENID\"]))\n",
    "last_norm_filter = (pl.col.FINNGENID.is_in(data.filter(pl.col.DATE<base_date).filter((pl.col.DATE==pl.col.DATE.max()).over(\"FINNGENID\")).filter(pl.col.ABNORM_CUSTOM<1)[\"FINNGENID\"]))\n",
    "no_abnorm_filter = (~pl.col.FINNGENID.is_in(data.filter(pl.col.DATE<base_date).filter(pl.col.ABNORM_CUSTOM==1)[\"FINNGENID\"]))\n",
    "thirty_filter = (((pl.col.EVENT_AGE>=30)&(pl.col.EVENT_AGE<40)))\n",
    "fourty_filter = (((pl.col.EVENT_AGE>=40)&(pl.col.EVENT_AGE<50)))\n",
    "fifty_filter = (((pl.col.EVENT_AGE>=50)&(pl.col.EVENT_AGE<60)))\n",
    "sixty_filter = (((pl.col.EVENT_AGE>=60)&(pl.col.EVENT_AGE<=70)))\n",
    "test_filter = pl.col.SET==2\n",
    "valid_filer = pl.col.SET==1\n",
    "train_filter = pl.col.SET==0"
   ]
  },
  {
   "cell_type": "markdown",
   "id": "63b98bdd",
   "metadata": {},
   "source": [
    "# Initial setup"
   ]
  },
  {
   "cell_type": "markdown",
   "id": "4b456fec",
   "metadata": {},
   "source": [
    "## Kreatinine"
   ]
  },
  {
   "cell_type": "code",
   "execution_count": null,
   "id": "5897bf8e",
   "metadata": {},
   "outputs": [],
   "source": [
    "! python3 /home/ivm/valid/scripts/steps/step0_extract.py \\\n",
    "    --omop=3020564 \\\n",
    "    --res_dir=/home/ivm/valid/data/processed_data/step0_extract/ \\\n",
    "    --lab_name=krea"
   ]
  },
  {
   "cell_type": "code",
   "execution_count": null,
   "id": "621ab20b",
   "metadata": {},
   "outputs": [],
   "source": [
    "! python3 /home/ivm/valid/scripts/steps/step1_clean.py \\\n",
    "    --res_dir=/home/ivm/valid/data/processed_data/step1_clean/ \\\n",
    "    --file_path=/home/ivm/valid/data/processed_data/step0_extract/krea_2025-07-21.parquet \\\n",
    "    --lab_name=egfr \\\n",
    "    --fill_missing 1 \\\n",
    "    --dummies 48 71 115 -1 625 \\\n",
    "    --abnorm_type=herold-part \\\n",
    "    --main_unit umol/l \\\n",
    "    --plot 1 \\\n",
    "    --keep_last_of_day 1 \\\n",
    "    --ref_min 2 \\\n",
    "    --max_z 4"
   ]
  },
  {
   "cell_type": "markdown",
   "id": "23dca738",
   "metadata": {},
   "source": [
    "## UACR"
   ]
  },
  {
   "cell_type": "code",
   "execution_count": null,
   "id": "0ab760dc",
   "metadata": {},
   "outputs": [],
   "source": [
    "! python3 /home/ivm/valid/scripts/steps/step0_extract.py \\\n",
    "    --omop=3020682 \\\n",
    "    --res_dir=/home/ivm/valid/data/processed_data/step0_extract/ \\\n",
    "    --lab_name=uacr"
   ]
  },
  {
   "cell_type": "code",
   "execution_count": null,
   "id": "d531c78f",
   "metadata": {},
   "outputs": [],
   "source": [
    "! python3 /home/ivm/valid/scripts/steps/step1_clean.py \\\n",
    "    --res_dir=/home/ivm/valid/data/processed_data/step1_clean/ \\\n",
    "    --file_path=/home/ivm/valid/data/processed_data/step0_extract/uacr_2025-07-22.parquet \\\n",
    "    --lab_name=uacr \\\n",
    "    --fill_missing 1 \\\n",
    "    --dummies -1 0.6 16.1 -1 -1 \\\n",
    "    --main_unit mg/mmol \\\n",
    "    --plot 1 \\\n",
    "    --keep_last_of_day 1 \\\n",
    "    --ref_min 0.01 "
   ]
  },
  {
   "cell_type": "markdown",
   "id": "c053bc5d",
   "metadata": {},
   "source": [
    "## Cystatin C"
   ]
  },
  {
   "cell_type": "code",
   "execution_count": null,
   "id": "86b36c4a",
   "metadata": {},
   "outputs": [],
   "source": [
    "! python3 /home/ivm/valid/scripts/steps/step0_extract.py \\\n",
    "    --omop=3030366 \\\n",
    "    --res_dir=/home/ivm/valid/data/processed_data/step0_extract/ \\\n",
    "    --lab_name=cystc"
   ]
  },
  {
   "cell_type": "code",
   "execution_count": null,
   "id": "3b6aee35",
   "metadata": {},
   "outputs": [],
   "source": [
    "! python3 /home/ivm/valid/scripts/steps/step1_clean.py \\\n",
    "    --res_dir=/home/ivm/valid/data/processed_data/step1_clean/ \\\n",
    "    --file_path=/home/ivm/valid/data/processed_data/step0_extract/cystc_2025-07-21.parquet \\\n",
    "    --lab_name=cystc \\\n",
    "    --fill_missing 1 \\\n",
    "    --dummies 0.61 0.89 1.79 -1 -1 \\\n",
    "    --abnorm_type=herold-part \\\n",
    "    --main_unit mg/l \\\n",
    "    --plot 1 \\\n",
    "    --keep_last_of_day 1 \\\n",
    "    --ref_min 2"
   ]
  },
  {
   "cell_type": "markdown",
   "id": "cee80883",
   "metadata": {},
   "source": [
    "## Diagnoses"
   ]
  },
  {
   "cell_type": "code",
   "execution_count": null,
   "id": "41d9d106",
   "metadata": {},
   "outputs": [],
   "source": [
    "! python3 /home/ivm/valid/scripts/steps/step2_diags.py \\\n",
    "                --lab_name=egfr \\\n",
    "                --res_dir=/home/ivm/valid/data/processed_data/step2_diags/  \\\n",
    "                --diag_regex=\"(^N18)|(^N19)|(^Z905)\" --med_regex=\"\"\\\n",
    "                --diag_excl_regex=\"\" \\\n",
    "                --med_excl_regex=\"\" \\\n",
    "                --fg_ver=\"R13\""
   ]
  },
  {
   "cell_type": "markdown",
   "id": "c11c8f40",
   "metadata": {},
   "source": [
    "# Exclusions"
   ]
  },
  {
   "cell_type": "code",
   "execution_count": null,
   "id": "d786b40c",
   "metadata": {},
   "outputs": [],
   "source": [
    "diags_data = pl.read_parquet(\"/home/ivm/valid/data/processed_data/step2_diags/egfr_R13_2025-07-22_diags.parquet\")\n",
    "egfr_data = pl.read_parquet(\"/home/ivm/valid/data/processed_data/step1_clean/egfr_d1_herold-part_ld_2025-07-23.parquet\")\n",
    "cystc_data = pl.read_parquet(\"/home/ivm/valid/data/processed_data/step1_clean/cystc_d1_herold-part_ld_2025-07-23.parquet\")\n",
    "uacr_data = pl.read_parquet(\"/home/ivm/valid/data/processed_data/step1_clean/uacr_d1_ld_2025-07-22.parquet\")\n",
    "\n",
    "from diag_utils import get_abnorm_start_dates, get_data_diags\n",
    "egfr_diag = get_data_diags(get_abnorm_start_dates(egfr_data), 90)\n",
    "cystc_diag = get_data_diags(get_abnorm_start_dates(cystc_data), 90)\n",
    "uacr_diag = get_data_diags(get_abnorm_start_dates(uacr_data), 90)\n",
    "\n",
    "\n",
    "(egfr_data\n",
    "  .join(egfr_diag.select(\"FINNGENID\", \"DATA_DIAG_DATE\").unique(), on=\"FINNGENID\", how=\"left\")\n",
    "  .filter(~(pl.col.DATA_DIAG_DATE<base_date)|pl.col.DATA_DIAG_DATE.is_null())\n",
    "  .drop(\"DATA_DIAG_DATE\")         \n",
    "  .join(diags_data.select(\"FINNGENID\", \"DIAG_DATE\", \"DIAG\"), on=\"FINNGENID\", how=\"left\")\n",
    "  .filter(~(pl.col.DIAG_DATE<base_date).any().over(\"FINNGENID\"))\n",
    "  .drop(\"DIAG_DATE\", \"DIAG\").unique()\n",
    "  .join(cystc_diag.select(\"FINNGENID\", \"DATA_DIAG_DATE\").unique(), on=\"FINNGENID\", how=\"left\")\n",
    "  .filter(~(pl.col.DATA_DIAG_DATE<base_date)|pl.col.DATA_DIAG_DATE.is_null())\n",
    "  .drop(\"DATA_DIAG_DATE\")\n",
    "  .join(uacr_diag.select(\"FINNGENID\", \"DATA_DIAG_DATE\").unique(), on=\"FINNGENID\", how=\"left\")\n",
    "  .filter(~(pl.col.DATA_DIAG_DATE<base_date)|pl.col.DATA_DIAG_DATE.is_null())\n",
    "  .drop(\"DATA_DIAG_DATE\")\n",
    ").write_parquet(\"/home/ivm/valid/data/processed_data/step2_diags/egfr_d1_herold-part_ld_2025-07-23_filtered_2025-07-23.parquet\")\n"
   ]
  },
  {
   "cell_type": "markdown",
   "id": "c0ced53f",
   "metadata": {},
   "source": [
    "# Labels"
   ]
  },
  {
   "cell_type": "code",
   "execution_count": null,
   "id": "de9159bb",
   "metadata": {},
   "outputs": [],
   "source": [
    "! base_path=/home/ivm/valid/data/processed_data; \\\n",
    "    fg_ver=R12; lab_name=egfr; extra=d1_herold-part_ld; diff=90; \\\n",
    "    date_1=2025-07-23; date_2=2025-07-23; date_excl=2025-07-16; \\\n",
    "    python3 /home/ivm/valid/scripts/steps/step3_labels_test_new.py \\\n",
    "        --data_path_full \"$base_path\"/step2_diags/\"$lab_name\"_\"$extra\"_\"$date_1\"_filtered_\"$date_2\".parquet \\\n",
    "        --res_dir \"$base_path\"/step3_labels/ \\\n",
    "        --lab_name \"$lab_name\" \\\n",
    "        --start_pred_date 2022-01-01 --end_pred_date 2022-12-31 \\\n",
    "        --min_age 30 --max_age 70 \\\n",
    "        --months_buffer 3 \\\n",
    "        --abnorm_type strong \\\n",
    "        --valid_pct 0.3 \\\n",
    "        --version v1\n"
   ]
  },
  {
   "cell_type": "markdown",
   "id": "d51b08c1",
   "metadata": {},
   "source": [
    "# Extra Data"
   ]
  },
  {
   "cell_type": "markdown",
   "id": "79a01d5c",
   "metadata": {},
   "source": [
    "## eGFR stats"
   ]
  },
  {
   "cell_type": "code",
   "execution_count": null,
   "id": "8d1de774",
   "metadata": {},
   "outputs": [],
   "source": [
    "! base_path=/home/ivm/valid/data/processed_data; \\\n",
    "    fg_ver=R12; lab_name=egfr; extra=d1_herold-part_ld; extra_labels=testv1_2022_w3;\\\n",
    "    date_1=2025-07-23; date_2=2025-07-23; date_3=2025-07-23;date_4=2025-07-23 \\\n",
    "        python3 /home/ivm/valid/scripts/steps/step4_sumstats.py \\\n",
    "            --res_dir \"$base_path\"/step4_data/ \\\n",
    "            --file_path \"$base_path\"/step3_labels/ \\\n",
    "            --file_name_start \"$lab_name\"_\"$extra\"_\"$date_1\"_filtered_\"$date_2\"_\"$extra_labels\"_\"$date_3\" \\\n",
    "            --lab_name \"$lab_name\" \\\n",
    "            --start_date 2021-10-01 \\\n",
    "            --mean_impute 0"
   ]
  },
  {
   "cell_type": "markdown",
   "id": "11bf7064",
   "metadata": {},
   "source": [
    "## UACR stats"
   ]
  },
  {
   "cell_type": "code",
   "execution_count": null,
   "id": "9d0a5a61",
   "metadata": {},
   "outputs": [],
   "source": [
    "! base_path=/home/ivm/valid/data/processed_data; \\\n",
    "    fg_ver=R12; lab_name=egfr; extra=d1_herold-part_ld; lab_name_two=uacr; extra_two=d1_ld; date_two=2025-07-22; extra_labels=testv1_2022_w3;\\\n",
    "    date_1=2025-07-23; date_2=2025-07-23; date_3=2025-07-23;date_4=2025-07-23 \\\n",
    "        python3 /home/ivm/valid/scripts/steps/step4_sumstats.py \\\n",
    "            --res_dir \"$base_path\"/step4_data/ \\\n",
    "            --file_path_labels \"$base_path\"/step3_labels/\"$lab_name\"_\"$extra\"_\"$date_1\"_filtered_\"$date_2\"_\"$extra_labels\"_\"$date_3\"_labels.parquet \\\n",
    "            --file_path_data /home/ivm/valid/data/processed_data/step1_clean/\"$lab_name_two\"_\"$extra_two\"_\"$date_two\".parquet \\\n",
    "            --file_path \"$base_path\"/step3_labels/ \\\n",
    "            --file_name_start \"$lab_name\"_\"$extra\"_\"$date_1\"_filtered_\"$date_2\"_\"$extra_labels\"_\"$date_3\"_\"$lab_name_two\"_\"$extra_two\"_\"$date_two\"\\\n",
    "            --lab_name \"$lab_name\" \\\n",
    "            --start_date 2021-10-01\n"
   ]
  },
  {
   "cell_type": "markdown",
   "id": "3c0c7f36",
   "metadata": {},
   "source": [
    "## Cystatin C stats"
   ]
  },
  {
   "cell_type": "code",
   "execution_count": null,
   "id": "b2c1fe60",
   "metadata": {},
   "outputs": [],
   "source": [
    "! base_path=/home/ivm/valid/data/processed_data; \\\n",
    "    fg_ver=R12; lab_name=egfr; extra=d1_herold-part_ld; lab_name_two=cystc; extra_two=d1_herold-part_ld; date_two=2025-07-22; extra_labels=testv1_2022_w3;\\\n",
    "    date_1=2025-07-23; date_2=2025-07-23; date_3=2025-07-23;date_4=2025-07-23 \\\n",
    "        python3 /home/ivm/valid/scripts/steps/step4_sumstats.py \\\n",
    "            --res_dir \"$base_path\"/step4_data/ \\\n",
    "            --file_path_labels \"$base_path\"/step3_labels/\"$lab_name\"_\"$extra\"_\"$date_1\"_filtered_\"$date_2\"_\"$extra_labels\"_\"$date_3\"_labels.parquet \\\n",
    "            --file_path_data /home/ivm/valid/data/processed_data/step1_clean/\"$lab_name_two\"_\"$extra_two\"_\"$date_two\".parquet \\\n",
    "            --file_path \"$base_path\"/step3_labels/ \\\n",
    "            --file_name_start \"$lab_name\"_\"$extra\"_\"$date_1\"_filtered_\"$date_2\"_\"$extra_labels\"_\"$date_3\"_\"$lab_name_two\"_\"$extra_two\"_\"$date_two\"\\\n",
    "            --lab_name \"$lab_name\" \\\n",
    "            --start_date 2021-10-01"
   ]
  },
  {
   "cell_type": "markdown",
   "id": "30a376e5",
   "metadata": {},
   "source": [
    "## Other labs"
   ]
  },
  {
   "cell_type": "code",
   "execution_count": null,
   "id": "6ada44af",
   "metadata": {},
   "outputs": [],
   "source": [
    "! base_path=/home/ivm/valid/data/processed_data; \\\n",
    "    fg_ver=R12; lab_name=egfr; extra=d1_herold-part_ld; lab_name_two=cystc; extra_two=d1_herold-part_ld; date_two=2025-07-22; extra_labels=testv1_2022_w3;\\\n",
    "    date_1=2025-07-23; date_2=2025-07-23; date_3=2025-07-23;date_4=2025-07-23 \\\n",
    "        python3 /home/ivm/valid/scripts/steps/step4_labs.py \\\n",
    "            --res_dir \"$base_path\"/step4_data/ \\\n",
    "            --file_path_lab /home/ivm/valid/data/extra_data/processed_data/step1_clean/R13_kanta_lab_min1pct_18-70-in-2026-293629total_2025-04-17.parquet \\\n",
    "            --dir_path_labels \"$base_path\"/step3_labels/ \\\n",
    "            --file_name_labels_start \"$lab_name\"_\"$extra\"_\"$date_1\"_filtered_\"$date_2\"_\"$extra_labels\"_\"$date_3\" \\\n",
    "            --lab_name \"$lab_name\" \\\n",
    "            --start_date 2021-10-01"
   ]
  },
  {
   "cell_type": "markdown",
   "id": "fa733da9",
   "metadata": {},
   "source": [
    "## ICDs"
   ]
  },
  {
   "cell_type": "code",
   "execution_count": null,
   "id": "d717ac20",
   "metadata": {},
   "outputs": [],
   "source": [
    "! base_path=/home/ivm/valid/data/processed_data; \\\n",
    "    fg_ver=R13; lab_name=egfr; extra=d1_herold-part_ld; lab_name_two=cystc; extra_two=d1_herold-part_ld; date_two=2025-07-22; extra_labels=testv1_2022_w3;\\\n",
    "    date_1=2025-07-23; date_2=2025-07-23; date_3=2025-07-23;date_4=2025-07-23 \\\n",
    "        python3 /home/ivm/valid/scripts/steps/step4_atcsicds.py \\\n",
    "            --res_dir \"$base_path\"/step4_data/ \\\n",
    "            --file_path_preds /home/ivm/valid/data/extra_data/processed_data/step1_clean/icds_r13_2025-06-06_min1p0pct_2025-06-06.parquet \\\n",
    "            --dir_path_labels \"$base_path\"/step3_labels/ \\\n",
    "            --file_name_labels_start \"$lab_name\"_\"$extra\"_\"$date_1\"_filtered_\"$date_2\"_\"$extra_labels\"_\"$date_3\"\\\n",
    "            --lab_name \"$lab_name\" \\\n",
    "            --start_date 2021-10-01 \\\n",
    "            --col_name ICD_THREE \\\n",
    "            --time 0 \\\n",
    "            --bin_count 1 \\\n",
    "            --months_before 0 \\\n",
    "            --start_year 0 \\\n",
    "            --min_pct 1"
   ]
  },
  {
   "cell_type": "markdown",
   "id": "40395615",
   "metadata": {},
   "source": [
    "## ATCs"
   ]
  },
  {
   "cell_type": "code",
   "execution_count": null,
   "id": "de19bafe",
   "metadata": {},
   "outputs": [],
   "source": [
    "! base_path=/home/ivm/valid/data/processed_data; \\\n",
    "    fg_ver=R13; lab_name=egfr; extra=d1_herold-part_ld; lab_name_two=cystc; extra_two=d1_herold-part_ld; date_two=2025-07-22; extra_labels=testv1_2022_w3;\\\n",
    "    date_1=2025-07-23; date_2=2025-07-23; date_3=2025-07-23;date_4=2025-07-23 \\\n",
    "        python3 /home/ivm/valid/scripts/steps/step4_atcsicds.py \\\n",
    "            --res_dir \"$base_path\"/step4_data/ \\\n",
    "            --file_path_preds /home/ivm/valid/data/extra_data/processed_data/step1_clean/atcs_r13_2025-06-12_min1p0pct_2025-06-12.parquet \\\n",
    "            --dir_path_labels \"$base_path\"/step3_labels/ \\\n",
    "            --file_name_labels_start \"$lab_name\"_\"$extra\"_\"$date_1\"_filtered_\"$date_2\"_\"$extra_labels\"_\"$date_3\"\\\n",
    "            --lab_name \"$lab_name\" \\\n",
    "            --start_date 2021-10-01 \\\n",
    "            --col_name ATC_FIVE \\\n",
    "            --time 0 \\\n",
    "            --bin_count 1 \\\n",
    "            --months_before 0 \\\n",
    "            --start_year 0 \\\n",
    "            --min_pct 1"
   ]
  },
  {
   "cell_type": "markdown",
   "id": "5572f6fb",
   "metadata": {},
   "source": [
    "# XGBoost"
   ]
  },
  {
   "cell_type": "markdown",
   "id": "83e5f5e5",
   "metadata": {},
   "source": [
    "## Clinical phenotype"
   ]
  },
  {
   "cell_type": "code",
   "execution_count": null,
   "id": "37046fb3",
   "metadata": {},
   "outputs": [],
   "source": [
    "! base_path=/home/ivm/valid/data/processed_data; \\\n",
    "    fg_ver=R13; lab_name=egfr; extra=d1_herold-part_ld; lab_name_two=cystc; extra_two=d1_herold-part_ld; date_two=2025-07-22; extra_labels=testv1_2022_w3;\\\n",
    "    date_1=2025-07-23; date_2=2025-07-23; date_3=2025-07-23;date_4=2025-07-23 \\\n",
    "    GOAL=y_MEAN_ABNORM; \\\n",
    "        python3 /home/ivm/valid/scripts/steps/step5_fit_XGB.py \\\n",
    "            --lab_name $lab_name \\\n",
    "            --lab_name_two $lab_name_two \\\n",
    "            --lr 0.4 \\\n",
    "            --pred_descriptor 1_clinpheno \\\n",
    "            --start_date 2021-10-01 \\\n",
    "            --preds BMI SMOKE SBP DBP EDU EVENT_AGE SEX \\\n",
    "            --file_path_labels \"$base_path\"/step3_labels/\"$lab_name\"_\"$extra\"_\"$date_1\"_filtered_\"$date_2\"_\"$extra_labels\"_\"$date_3\"_labels.parquet \\\n",
    "            --file_path_sumstats \"$base_path\"/step4_data/\"$lab_name\"_\"$extra\"_\"$date_1\"_filtered_\"$date_2\"_\"$extra_labels\"_\"$date_3\"_sumstats_noimpute_\"$date_4\".parquet \\\n",
    "            --res_dir \"$base_path\"/step5_predict/\"$extra_labels\"/\"$GOAL\"/ \\\n",
    "            --goal \"$GOAL\" \\\n",
    "            --run_step0 0 \\\n",
    "            --metric logloss  \\\n",
    "            --reweight 0 \\\n",
    "            --low_lr 0.01 \\\n",
    "            --refit 1 \\\n",
    "            --n_trials 200"
   ]
  },
  {
   "cell_type": "markdown",
   "id": "17b37078",
   "metadata": {},
   "source": [
    "## Last value"
   ]
  },
  {
   "cell_type": "code",
   "execution_count": null,
   "id": "6d8eb0f9",
   "metadata": {},
   "outputs": [],
   "source": [
    "! base_path=/home/ivm/valid/data/processed_data; \\\n",
    "    fg_ver=R13; lab_name=egfr; extra=d1_herold-part_ld; lab_name_two=cystc; extra_two=d1_herold-part_ld; date_two=2025-07-22; extra_labels=testv1_2022_w3;\\\n",
    "    date_1=2025-07-23; date_2=2025-07-23; date_3=2025-07-23;date_4=2025-07-23 \\\n",
    "    GOAL=y_MEAN_ABNORM; \\\n",
    "        python3 /home/ivm/valid/scripts/steps/step5_fit_XGB.py \\\n",
    "            --lab_name $lab_name \\\n",
    "            --lab_name_two $lab_name_two \\\n",
    "            --lr 0.4 \\\n",
    "            --pred_descriptor 2_lastval \\\n",
    "            --start_date 2021-10-01 \\\n",
    "            --preds IDX_QUANT_100 LAST_VAL_DIFF EVENT_AGE SEX \\\n",
    "            --file_path_labels \"$base_path\"/step3_labels/\"$lab_name\"_\"$extra\"_\"$date_1\"_filtered_\"$date_2\"_\"$extra_labels\"_\"$date_3\"_labels.parquet \\\n",
    "            --file_path_sumstats \"$base_path\"/step4_data/\"$lab_name\"_\"$extra\"_\"$date_1\"_filtered_\"$date_2\"_\"$extra_labels\"_\"$date_3\"_sumstats_noimpute_\"$date_4\".parquet \\\n",
    "            --res_dir \"$base_path\"/step5_predict/\"$extra_labels\"/\"$GOAL\"/ \\\n",
    "            --goal \"$GOAL\" \\\n",
    "            --run_step0 0 \\\n",
    "            --metric logloss  \\\n",
    "            --reweight 0 \\\n",
    "            --low_lr 0.01 \\\n",
    "            --refit 1 \\\n",
    "            --n_trials 200\n"
   ]
  },
  {
   "cell_type": "markdown",
   "id": "887dd994",
   "metadata": {},
   "source": [
    "## Summary statistics"
   ]
  },
  {
   "cell_type": "code",
   "execution_count": null,
   "id": "d6bedf8f",
   "metadata": {},
   "outputs": [],
   "source": [
    "! base_path=/home/ivm/valid/data/processed_data; \\\n",
    "    fg_ver=R13; lab_name=egfr; extra=d1_herold-part_ld; lab_name_two=uacr; extra_two=d1_ld; date_two=2025-07-22; extra_labels=testv1_2022_w3;\\\n",
    "    date_1=2025-07-23; date_2=2025-07-23; date_3=2025-07-23;date_4=2025-07-23 \\\n",
    "    GOAL=y_MEAN_ABNORM; \\\n",
    "        python3 /home/ivm/valid/scripts/steps/step5_fit_XGB.py \\\n",
    "            --lab_name $lab_name \\\n",
    "            --lab_name_two $lab_name_two \\\n",
    "            --lr 0.4 \\\n",
    "            --start_date 2021-10-01 \\\n",
    "            --pred_descriptor 2_sumstats \\\n",
    "            --preds SUMSTATS LAST_VAL_DIFF EVENT_AGE SEX \\\n",
    "            --file_path_labels \"$base_path\"/step3_labels/\"$lab_name\"_\"$extra\"_\"$date_1\"_filtered_\"$date_2\"_\"$extra_labels\"_\"$date_3\"_labels.parquet \\\n",
    "            --file_path_sumstats \"$base_path\"/step4_data/\"$lab_name\"_\"$extra\"_\"$date_1\"_filtered_\"$date_2\"_\"$extra_labels\"_\"$date_3\"_sumstats_noimpute_\"$date_4\".parquet \\\n",
    "            --file_path_second_sumstats \"$base_path\"/step4_data/\"$lab_name\"_\"$extra\"_\"$date_1\"_filtered_\"$date_2\"_\"$extra_labels\"_\"$date_3\"_\"$lab_name_two\"_\"$extra_two\"_\"$date_two\"_sumstats_\"$date_4\".parquet \\\n",
    "            --res_dir \"$base_path\"/step5_predict/\"$extra_labels\"/\"$GOAL\"/ \\\n",
    "            --goal \"$GOAL\" \\\n",
    "            --run_step0 0 \\\n",
    "            --metric logloss  \\\n",
    "            --reweight 0 \\\n",
    "            --low_lr 0.01 \\\n",
    "            --refit 1 \\\n",
    "            --n_trials 200"
   ]
  },
  {
   "cell_type": "markdown",
   "id": "45a8edb8",
   "metadata": {},
   "source": [
    "## kreatinine eGFR + cystatin C eGFR summary statistics"
   ]
  },
  {
   "cell_type": "code",
   "execution_count": null,
   "id": "461d589e",
   "metadata": {},
   "outputs": [],
   "source": [
    "\n",
    "! base_path=/home/ivm/valid/data/processed_data; \\\n",
    "    fg_ver=R13; lab_name=egfr; extra=d1_herold-part_ld; lab_name_two=cystc; extra_two=d1_herold-part_ld; date_two=2025-07-22; extra_labels=testv1_2022_w3;\\\n",
    "    date_1=2025-07-23; date_2=2025-07-23; date_3=2025-07-23;date_4=2025-07-23 \\\n",
    "    GOAL=y_MEAN_ABNORM; \\\n",
    "        python3 /home/ivm/valid/scripts/steps/step5_fit_XGB.py \\\n",
    "            --lab_name $lab_name \\\n",
    "            --lab_name_two $lab_name_two \\\n",
    "            --lr 0.4 \\\n",
    "            --start_date 2021-10-01 \\\n",
    "            --pred_descriptor 3_twosumstats \\\n",
    "            --preds SECOND_SUMSTATS SUMSTATS LAST_VAL_DIFF EVENT_AGE SEX \\\n",
    "            --file_path_labels \"$base_path\"/step3_labels/\"$lab_name\"_\"$extra\"_\"$date_1\"_filtered_\"$date_2\"_\"$extra_labels\"_\"$date_3\"_labels.parquet \\\n",
    "            --file_path_sumstats \"$base_path\"/step4_data/\"$lab_name\"_\"$extra\"_\"$date_1\"_filtered_\"$date_2\"_\"$extra_labels\"_\"$date_3\"_sumstats_noimpute_\"$date_4\".parquet \\\n",
    "            --file_path_second_sumstats \"$base_path\"/step4_data/\"$lab_name\"_\"$extra\"_\"$date_1\"_filtered_\"$date_2\"_\"$extra_labels\"_\"$date_3\"_\"$lab_name_two\"_\"$extra_two\"_\"$date_two\"_sumstats_\"$date_4\".parquet \\\n",
    "            --res_dir \"$base_path\"/step5_predict/\"$extra_labels\"/\"$GOAL\"/ \\\n",
    "            --goal \"$GOAL\" \\\n",
    "            --run_step0 0 \\\n",
    "            --metric logloss  \\\n",
    "            --reweight 0 \\\n",
    "            --low_lr 0.01 \\\n",
    "            --refit 1 \\\n",
    "            --n_trials 200"
   ]
  },
  {
   "cell_type": "markdown",
   "id": "8cad02af",
   "metadata": {},
   "source": [
    "## eGFR + UACR summary statisticss"
   ]
  },
  {
   "cell_type": "code",
   "execution_count": null,
   "id": "4b7579b3",
   "metadata": {},
   "outputs": [],
   "source": [
    "! base_path=/home/ivm/valid/data/processed_data; \\\n",
    "    fg_ver=R13; lab_name=egfr; extra=d1_herold-part_ld; lab_name_two=uacr; extra_two=d1_ld; date_two=2025-07-22; extra_labels=testv1_2022_w3;\\\n",
    "    date_1=2025-07-23; date_2=2025-07-23; date_3=2025-07-23;date_4=2025-07-23 \\\n",
    "    GOAL=y_MEAN_ABNORM; \\\n",
    "        python3 /home/ivm/valid/scripts/steps/step5_fit_XGB.py \\\n",
    "            --lab_name $lab_name \\\n",
    "            --lab_name_two $lab_name_two \\\n",
    "            --lr 0.4 \\\n",
    "            --start_date 2021-10-01 \\\n",
    "            --pred_descriptor 3_twosumstats_2 \\\n",
    "            --preds SECOND_SUMSTATS SUMSTATS LAST_VAL_DIFF EVENT_AGE SEX \\\n",
    "            --file_path_labels \"$base_path\"/step3_labels/\"$lab_name\"_\"$extra\"_\"$date_1\"_filtered_\"$date_2\"_\"$extra_labels\"_\"$date_3\"_labels.parquet \\\n",
    "            --file_path_sumstats \"$base_path\"/step4_data/\"$lab_name\"_\"$extra\"_\"$date_1\"_filtered_\"$date_2\"_\"$extra_labels\"_\"$date_3\"_sumstats_noimpute_\"$date_4\".parquet \\\n",
    "            --file_path_second_sumstats \"$base_path\"/step4_data/\"$lab_name\"_\"$extra\"_\"$date_1\"_filtered_\"$date_2\"_\"$extra_labels\"_\"$date_3\"_\"$lab_name_two\"_\"$extra_two\"_\"$date_two\"_sumstats_\"$date_4\".parquet \\\n",
    "            --res_dir \"$base_path\"/step5_predict/\"$extra_labels\"/\"$GOAL\"/ \\\n",
    "            --goal \"$GOAL\" \\\n",
    "            --run_step0 0 \\\n",
    "            --metric logloss  \\\n",
    "            --reweight 0 \\\n",
    "            --low_lr 0.01 \\\n",
    "            --refit 1 \\\n",
    "            --n_trials 200"
   ]
  },
  {
   "cell_type": "markdown",
   "id": "b7f12737",
   "metadata": {},
   "source": [
    "## Other labs"
   ]
  },
  {
   "cell_type": "code",
   "execution_count": null,
   "id": "df1afe9b",
   "metadata": {},
   "outputs": [],
   "source": [
    "! base_path=/home/ivm/valid/data/processed_data; \\\n",
    "    fg_ver=R13; lab_name=egfr; extra=d1_herold-part_ld; lab_name_two=cystc; extra_two=d1_herold-part_ld; date_two=2025-07-22; extra_labels=testv1_2022_w3;\\\n",
    "    date_1=2025-07-23; date_2=2025-07-23; date_3=2025-07-23;date_4=2025-07-23 \\\n",
    "    GOAL=y_MEAN_ABNORM; \\\n",
    "        python3 /home/ivm/valid/scripts/steps/step5_fit_XGB.py \\\n",
    "            --lab_name $lab_name \\\n",
    "            --lab_name_two $lab_name_two \\\n",
    "            --lr 0.4 \\\n",
    "            --pred_descriptor 3_otherlabs \\\n",
    "            --preds S_MEAN LAB_MAT_MEAN EVENT_AGE SEX \\\n",
    "            --file_path_labels \"$base_path\"/step3_labels/\"$lab_name\"_\"$extra\"_\"$date_1\"_filtered_\"$date_2\"_\"$extra_labels\"_\"$date_3\"_labels.parquet \\\n",
    "            --file_path_sumstats \"$base_path\"/step4_data/\"$lab_name\"_\"$extra\"_\"$date_1\"_filtered_\"$date_2\"_\"$extra_labels\"_\"$date_3\"_sumstats_noimpute_\"$date_4\".parquet \\\n",
    "            --file_path_second_sumstats \"$base_path\"/step4_data/\"$lab_name\"_\"$extra\"_\"$date_1\"_filtered_\"$date_2\"_\"$extra_labels\"_\"$date_3\"_\"$lab_name_two\"_\"$extra_two\"_\"$date_two\"_sumstats_\"$date_4\".parquet \\\n",
    "            --file_path_labs \"$base_path\"/step4_data/\"$lab_name\"_\"$extra\"_\"$date_1\"_filtered_\"$date_2\"_\"$extra_labels\"_\"$date_3\"_labs_\"$date_4\".parquet \\\n",
    "            --res_dir \"$base_path\"/step5_predict/\"$extra_labels\"/\"$GOAL\"/ \\\n",
    "            --goal \"$GOAL\" \\\n",
    "            --run_step0 0 \\\n",
    "            --metric logloss  \\\n",
    "            --reweight 0 \\\n",
    "            --low_lr 0.01 \\\n",
    "            --refit 1 \\\n",
    "            --n_trials 200"
   ]
  },
  {
   "cell_type": "markdown",
   "id": "f99da4aa",
   "metadata": {},
   "source": [
    "## ATCs + ICDs"
   ]
  },
  {
   "cell_type": "code",
   "execution_count": null,
   "id": "8c57bbe8",
   "metadata": {},
   "outputs": [],
   "source": [
    "! base_path=/home/ivm/valid/data/processed_data; \\\n",
    "    fg_ver=R13; lab_name=egfr; extra=d1_herold-part_ld; lab_name_two=cystc; extra_two=d1_herold-part_ld; date_two=2025-07-22; extra_labels=testv1_2022_w3;\\\n",
    "    date_1=2025-07-23; date_2=2025-07-23; date_3=2025-07-23;date_4=2025-07-23 \\\n",
    "    GOAL=y_MEAN_ABNORM; \\\n",
    "        python3 /home/ivm/valid/scripts/steps/step5_fit_XGB.py \\\n",
    "            --lab_name $lab_name \\\n",
    "            --lab_name_two $lab_name_two \\\n",
    "            --lr 0.4 \\\n",
    "            --pred_descriptor 3_registry \\\n",
    "            --preds ICD_MAT ATC_MAT EVENT_AGE SEX \\\n",
    "            --file_path_labels \"$base_path\"/step3_labels/\"$lab_name\"_\"$extra\"_\"$date_1\"_filtered_\"$date_2\"_\"$extra_labels\"_\"$date_3\"_labels.parquet \\\n",
    "            --file_path_sumstats \"$base_path\"/step4_data/\"$lab_name\"_\"$extra\"_\"$date_1\"_filtered_\"$date_2\"_\"$extra_labels\"_\"$date_3\"_sumstats_noimpute_\"$date_4\".parquet \\\n",
    "            --file_path_icds \"$base_path\"/step4_data/\"$lab_name\"_\"$extra\"_\"$date_1\"_filtered_\"$date_2\"_\"$extra_labels\"_\"$date_3\"_icds_1pct_bin_\"$lab_name\"_\"$date_4\".parquet \\\n",
    "            --file_path_atcs \"$base_path\"/step4_data/\"$lab_name\"_\"$extra\"_\"$date_1\"_filtered_\"$date_2\"_\"$extra_labels\"_\"$date_3\"_atcs_1pct_bin_\"$lab_name\"_\"$date_4\".parquet \\\n",
    "            --res_dir \"$base_path\"/step5_predict/\"$extra_labels\"/\"$GOAL\"/ \\\n",
    "            --goal \"$GOAL\" \\\n",
    "            --run_step0 0 \\\n",
    "            --metric logloss  \\\n",
    "            --reweight 0 \\\n",
    "            --low_lr 0.01 \\\n",
    "            --refit 1 \\\n",
    "            --n_trials 200"
   ]
  },
  {
   "cell_type": "markdown",
   "id": "fad9598f",
   "metadata": {},
   "source": [
    "## All data"
   ]
  },
  {
   "cell_type": "markdown",
   "id": "081ac914",
   "metadata": {},
   "source": [
    "### logloss"
   ]
  },
  {
   "cell_type": "code",
   "execution_count": null,
   "id": "02552700",
   "metadata": {},
   "outputs": [],
   "source": [
    "! base_path=/home/ivm/valid/data/processed_data; \\\n",
    "    fg_ver=R13; lab_name=egfr; extra=d1_herold-part_ld; lab_name_two=cystc; extra_two=d1_herold-part_ld; date_two=2025-07-22; extra_labels=testv1_2022_w3;\\\n",
    "    date_1=2025-07-23; date_2=2025-07-23; date_3=2025-07-23;date_4=2025-07-23 \\\n",
    "    GOAL=y_MEAN_ABNORM; \\\n",
    "        python3 /home/ivm/valid/scripts/steps/step5_fit_XGB.py \\\n",
    "            --lab_name $lab_name \\\n",
    "            --lab_name_two $lab_name_two \\\n",
    "            --lr 0.4 \\\n",
    "            --pred_descriptor 4_all \\\n",
    "            --start_date 2021-10-01 \\\n",
    "            --preds BMI SMOKE SBP DBP EDU LAST_VAL_DIFF S_MEAN S_IDX_QUANT_100 SUMSTATS LAB_MAT_MEAN ICD_MAT ATC_MAT EVENT_AGE SEX \\\n",
    "            --file_path_labels \"$base_path\"/step3_labels/\"$lab_name\"_\"$extra\"_\"$date_1\"_filtered_\"$date_2\"_\"$extra_labels\"_\"$date_3\"_labels.parquet \\\n",
    "            --file_path_sumstats \"$base_path\"/step4_data/\"$lab_name\"_\"$extra\"_\"$date_1\"_filtered_\"$date_2\"_\"$extra_labels\"_\"$date_3\"_sumstats_noimpute_\"$date_4\".parquet \\\n",
    "            --file_path_second_sumstats \"$base_path\"/step4_data/\"$lab_name\"_\"$extra\"_\"$date_1\"_filtered_\"$date_2\"_\"$extra_labels\"_\"$date_3\"_\"$lab_name_two\"_\"$extra_two\"_\"$date_two\"_sumstats_\"$date_4\".parquet \\\n",
    "            --file_path_labs \"$base_path\"/step4_data/\"$lab_name\"_\"$extra\"_\"$date_1\"_filtered_\"$date_2\"_\"$extra_labels\"_\"$date_3\"_labs_\"$date_4\".parquet \\\n",
    "            --file_path_icds \"$base_path\"/step4_data/\"$lab_name\"_\"$extra\"_\"$date_1\"_filtered_\"$date_2\"_\"$extra_labels\"_\"$date_3\"_icds_1pct_bin_\"$lab_name\"_\"$date_4\".parquet \\\n",
    "            --file_path_atcs \"$base_path\"/step4_data/\"$lab_name\"_\"$extra\"_\"$date_1\"_filtered_\"$date_2\"_\"$extra_labels\"_\"$date_3\"_atcs_1pct_bin_\"$lab_name\"_\"$date_4\".parquet \\\n",
    "            --res_dir \"$base_path\"/step5_predict/\"$extra_labels\"/\"$GOAL\"/ \\\n",
    "            --goal \"$GOAL\" \\\n",
    "            --run_step0 0 \\\n",
    "            --metric logloss  \\\n",
    "            --reweight 0 \\\n",
    "            --low_lr 0.01 \\\n",
    "            --refit 1 \\\n",
    "            --n_trials 200"
   ]
  },
  {
   "cell_type": "markdown",
   "id": "c25bb48d",
   "metadata": {},
   "source": [
    "### MAE"
   ]
  },
  {
   "cell_type": "code",
   "execution_count": null,
   "id": "f71840cf",
   "metadata": {},
   "outputs": [],
   "source": [
    "! base_path=/home/ivm/valid/data/processed_data; \\\n",
    "    fg_ver=R13; lab_name=egfr; extra=d1_herold-part_ld; lab_name_two=cystc; extra_two=d1_herold-part_ld; date_two=2025-07-22; extra_labels=testv1_2022_w3;\\\n",
    "    date_1=2025-07-23; date_2=2025-07-23; date_3=2025-07-23;date_4=2025-07-23 \\\n",
    "    GOAL=y_MEAN; \\\n",
    "        python3 /home/ivm/valid/scripts/steps/step5_fit_XGB.py \\\n",
    "            --lab_name $lab_name \\\n",
    "            --lab_name_two $lab_name_two \\\n",
    "            --lr 0.4 \\\n",
    "            --pred_descriptor 4_all \\\n",
    "            --start_date 2021-10-01 \\\n",
    "            --preds BMI SMOKE SBP DBP EDU LAST_VAL_DIFF S_MEAN S_IDX_QUANT_100 SUMSTATS LAB_MAT_MEAN ICD_MAT ATC_MAT EVENT_AGE SEX \\\n",
    "            --file_path_labels \"$base_path\"/step3_labels/\"$lab_name\"_\"$extra\"_\"$date_1\"_filtered_\"$date_2\"_\"$extra_labels\"_\"$date_3\"_labels.parquet \\\n",
    "            --file_path_sumstats \"$base_path\"/step4_data/\"$lab_name\"_\"$extra\"_\"$date_1\"_filtered_\"$date_2\"_\"$extra_labels\"_\"$date_3\"_sumstats_noimpute_\"$date_4\".parquet \\\n",
    "            --file_path_second_sumstats \"$base_path\"/step4_data/\"$lab_name\"_\"$extra\"_\"$date_1\"_filtered_\"$date_2\"_\"$extra_labels\"_\"$date_3\"_\"$lab_name_two\"_\"$extra_two\"_\"$date_two\"_sumstats_\"$date_4\".parquet \\\n",
    "            --file_path_labs \"$base_path\"/step4_data/\"$lab_name\"_\"$extra\"_\"$date_1\"_filtered_\"$date_2\"_\"$extra_labels\"_\"$date_3\"_labs_\"$date_4\".parquet \\\n",
    "            --file_path_icds \"$base_path\"/step4_data/\"$lab_name\"_\"$extra\"_\"$date_1\"_filtered_\"$date_2\"_\"$extra_labels\"_\"$date_3\"_icds_1pct_bin_\"$lab_name\"_\"$date_4\".parquet \\\n",
    "            --file_path_atcs \"$base_path\"/step4_data/\"$lab_name\"_\"$extra\"_\"$date_1\"_filtered_\"$date_2\"_\"$extra_labels\"_\"$date_3\"_atcs_1pct_bin_\"$lab_name\"_\"$date_4\".parquet \\\n",
    "            --res_dir \"$base_path\"/step5_predict/\"$extra_labels\"/\"$GOAL\"/ \\\n",
    "            --goal \"$GOAL\" \\\n",
    "            --run_step0 0 \\\n",
    "            --metric mae  \\\n",
    "            --reweight 0 \\\n",
    "            --low_lr 0.01 \\\n",
    "            --refit 1 \\\n",
    "            --n_trials 200"
   ]
  },
  {
   "cell_type": "markdown",
   "id": "a4cc7d7f",
   "metadata": {},
   "source": [
    "### Q25"
   ]
  },
  {
   "cell_type": "code",
   "execution_count": null,
   "id": "9869507c",
   "metadata": {},
   "outputs": [],
   "source": [
    "! base_path=/home/ivm/valid/data/processed_data; \\\n",
    "    fg_ver=R13; lab_name=egfr; extra=d1_herold-part_ld; lab_name_two=cystc; extra_two=d1_herold-part_ld; date_two=2025-07-22; extra_labels=testv1_2022_w3;\\\n",
    "    date_1=2025-07-23; date_2=2025-07-23; date_3=2025-07-23;date_4=2025-07-23 \\\n",
    "    GOAL=y_MEAN; \\\n",
    "        python3 /home/ivm/valid/scripts/steps/step5_fit_XGB.py \\\n",
    "            --lab_name $lab_name \\\n",
    "            --lab_name_two $lab_name_two \\\n",
    "            --lr 0.4 \\\n",
    "            --pred_descriptor 4_all \\\n",
    "            --start_date 2021-10-01 \\\n",
    "            --preds BMI SMOKE SBP DBP EDU LAST_VAL_DIFF S_MEAN S_IDX_QUANT_100 SUMSTATS LAB_MAT_MEAN ICD_MAT ATC_MAT EVENT_AGE SEX \\\n",
    "            --file_path_labels \"$base_path\"/step3_labels/\"$lab_name\"_\"$extra\"_\"$date_1\"_filtered_\"$date_2\"_\"$extra_labels\"_\"$date_3\"_labels.parquet \\\n",
    "            --file_path_sumstats \"$base_path\"/step4_data/\"$lab_name\"_\"$extra\"_\"$date_1\"_filtered_\"$date_2\"_\"$extra_labels\"_\"$date_3\"_sumstats_noimpute_\"$date_4\".parquet \\\n",
    "            --file_path_second_sumstats \"$base_path\"/step4_data/\"$lab_name\"_\"$extra\"_\"$date_1\"_filtered_\"$date_2\"_\"$extra_labels\"_\"$date_3\"_\"$lab_name_two\"_\"$extra_two\"_\"$date_two\"_sumstats_\"$date_4\".parquet \\\n",
    "            --file_path_labs \"$base_path\"/step4_data/\"$lab_name\"_\"$extra\"_\"$date_1\"_filtered_\"$date_2\"_\"$extra_labels\"_\"$date_3\"_labs_\"$date_4\".parquet \\\n",
    "            --file_path_icds \"$base_path\"/step4_data/\"$lab_name\"_\"$extra\"_\"$date_1\"_filtered_\"$date_2\"_\"$extra_labels\"_\"$date_3\"_icds_1pct_bin_\"$lab_name\"_\"$date_4\".parquet \\\n",
    "            --file_path_atcs \"$base_path\"/step4_data/\"$lab_name\"_\"$extra\"_\"$date_1\"_filtered_\"$date_2\"_\"$extra_labels\"_\"$date_3\"_atcs_1pct_bin_\"$lab_name\"_\"$date_4\".parquet \\\n",
    "            --res_dir \"$base_path\"/step5_predict/\"$extra_labels\"/\"$GOAL\"/ \\\n",
    "            --goal \"$GOAL\" \\\n",
    "            --run_step0 0 \\\n",
    "            --metric q25  \\\n",
    "            --reweight 0 \\\n",
    "            --n_boots 500 \\\n",
    "            --low_lr 0.01 \\\n",
    "            --refit 1 \\\n",
    "            --n_trials 200"
   ]
  },
  {
   "cell_type": "markdown",
   "id": "bc3ac24a",
   "metadata": {},
   "source": [
    "### Q10"
   ]
  },
  {
   "cell_type": "code",
   "execution_count": null,
   "id": "d2c66632",
   "metadata": {},
   "outputs": [],
   "source": [
    "! base_path=/home/ivm/valid/data/processed_data; \\\n",
    "    fg_ver=R13; lab_name=egfr; extra=d1_herold-part_ld; lab_name_two=cystc; extra_two=d1_herold-part_ld; date_two=2025-07-22; extra_labels=testv1_2022_w3;\\\n",
    "    date_1=2025-07-23; date_2=2025-07-23; date_3=2025-07-23;date_4=2025-07-23 \\\n",
    "    GOAL=y_MEAN; \\\n",
    "        python3 /home/ivm/valid/scripts/steps/step5_fit_XGB.py \\\n",
    "            --lab_name $lab_name \\\n",
    "            --lab_name_two $lab_name_two \\\n",
    "            --lr 0.4 \\\n",
    "            --pred_descriptor 4_all \\\n",
    "            --start_date 2021-10-01 \\\n",
    "            --preds BMI SMOKE SBP DBP EDU LAST_VAL_DIFF S_MEAN S_IDX_QUANT_100 SUMSTATS LAB_MAT_MEAN ICD_MAT ATC_MAT EVENT_AGE SEX \\\n",
    "            --file_path_labels \"$base_path\"/step3_labels/\"$lab_name\"_\"$extra\"_\"$date_1\"_filtered_\"$date_2\"_\"$extra_labels\"_\"$date_3\"_labels.parquet \\\n",
    "            --file_path_sumstats \"$base_path\"/step4_data/\"$lab_name\"_\"$extra\"_\"$date_1\"_filtered_\"$date_2\"_\"$extra_labels\"_\"$date_3\"_sumstats_noimpute_\"$date_4\".parquet \\\n",
    "            --file_path_second_sumstats \"$base_path\"/step4_data/\"$lab_name\"_\"$extra\"_\"$date_1\"_filtered_\"$date_2\"_\"$extra_labels\"_\"$date_3\"_\"$lab_name_two\"_\"$extra_two\"_\"$date_two\"_sumstats_\"$date_4\".parquet \\\n",
    "            --file_path_labs \"$base_path\"/step4_data/\"$lab_name\"_\"$extra\"_\"$date_1\"_filtered_\"$date_2\"_\"$extra_labels\"_\"$date_3\"_labs_\"$date_4\".parquet \\\n",
    "            --file_path_icds \"$base_path\"/step4_data/\"$lab_name\"_\"$extra\"_\"$date_1\"_filtered_\"$date_2\"_\"$extra_labels\"_\"$date_3\"_icds_1pct_bin_\"$lab_name\"_\"$date_4\".parquet \\\n",
    "            --file_path_atcs \"$base_path\"/step4_data/\"$lab_name\"_\"$extra\"_\"$date_1\"_filtered_\"$date_2\"_\"$extra_labels\"_\"$date_3\"_atcs_1pct_bin_\"$lab_name\"_\"$date_4\".parquet \\\n",
    "            --res_dir \"$base_path\"/step5_predict/\"$extra_labels\"/\"$GOAL\"/ \\\n",
    "            --goal \"$GOAL\" \\\n",
    "            --run_step0 0 \\\n",
    "            --metric q10  \\\n",
    "            --reweight 0 \\\n",
    "            --n_boots 500 \\\n",
    "            --low_lr 0.01 \\\n",
    "            --refit 1 \\\n",
    "            --n_trials 200"
   ]
  },
  {
   "cell_type": "markdown",
   "id": "8d472c20",
   "metadata": {},
   "source": [
    "# TLSTM"
   ]
  },
  {
   "cell_type": "code",
   "execution_count": null,
   "id": "771f5a76",
   "metadata": {},
   "outputs": [],
   "source": [
    "! base_path=/home/ivm/valid/data/processed_data; \\\n",
    "    fg_ver=R13; lab_name=egfr; extra=d1_herold-part_ld; lab_name_two=cystc; extra_two=d1_herold-part_ld; date_two=2025-07-22; extra_labels=testv1_2022_w3;\\\n",
    "    date_1=2025-07-23; date_2=2025-07-23; date_3=2025-07-23;date_4=2025-07-23 \\\n",
    "    GOAL=y_MEAN_ABNORM; \\\n",
    "        python3 /home/ivm/valid/scripts/steps/step4_longitudina_2.py \\\n",
    "            --lab_name $lab_name \\\n",
    "            --preds LAB AGE SEX \\\n",
    "            --preds_name 1_lab \\\n",
    "            --data_path_dir \"$base_path\"/step3_labels/ \\\n",
    "            --file_name_start \"$lab_name\"_\"$extra\"_\"$date_1\"_filtered_\"$date_2\"_\"$extra_labels\"_\"$date_3\" \\\n",
    "            --res_dir \"$base_path\"/step4_data/\"$extra_labels\"/\"$GOAL\"/tlstm/ \\\n",
    "            --goal \"$GOAL\" \\\n",
    "            --end_obs_date 2021-10-01 \\\n",
    "            --skip_rep_codes 0 \\\n",
    "            --quant_steps 2 20 40 50 52 54 56 58 60 62 64 66 68 70 90 200"
   ]
  },
  {
   "cell_type": "code",
   "execution_count": null,
   "id": "a62c0365",
   "metadata": {},
   "outputs": [],
   "source": [
    "! base_path=/home/ivm/valid/data/processed_data; \\\n",
    "    fg_ver=R13; lab_name=egfr; extra=d1_herold-part_ld; lab_name_two=cystc; extra_two=d1_herold-part_ld; date_two=2025-07-22; extra_labels=testv1_2022_w3;\\\n",
    "    date_1=2025-07-23; date_2=2025-07-23; date_3=2025-07-23;date_4=2025-07-24 \\\n",
    "    GOAL=y_MEAN_ABNORM; pred_descr=1_lab_manualquants_month ; \\\n",
    "        python3 /home/ivm/valid/scripts/steps/step5_fit_DL.py \\\n",
    "            --file_path_labels \"$base_path\"/step3_labels/\"$lab_name\"_\"$extra\"_\"$date_1\"_filtered_\"$date_2\"_\"$extra_labels\"_\"$date_3\"_labels.parquet \\\n",
    "            --file_path \"$base_path\"/step4_data/\"$extra_labels\"/\"$GOAL\"/tlstm/ \\\n",
    "            --file_name_start \"$lab_name\"_\"$extra\"_\"$date_1\"_filtered_\"$date_2\"_\"$extra_labels\"_\"$date_3\"_long_\"$pred_descr\"_\"$date_4\" \\\n",
    "            --lab_name $lab_name \\\n",
    "            --pred_descriptor $pred_descr \\\n",
    "            --res_dir \"$base_path\"/step5_predict/\"$extra_labels\"/\"$GOAL\"/ \\\n",
    "            --model_name TLSTM \\\n",
    "            --refit 1 \\\n",
    "            --n_trials 50 \\\n",
    "            --train_epochs 10 \\\n",
    "            --goal \"$GOAL\" \\\n",
    "            --batch_size 256"
   ]
  },
  {
   "cell_type": "markdown",
   "id": "ee74d93a",
   "metadata": {},
   "source": [
    "# Evals"
   ]
  },
  {
   "cell_type": "markdown",
   "id": "01817938",
   "metadata": {},
   "source": [
    "## Prep"
   ]
  },
  {
   "cell_type": "code",
   "execution_count": null,
   "id": "bd4a912a",
   "metadata": {},
   "outputs": [],
   "source": [
    "from model_eval_utils import bootstrap_metric, bootstrap_difference, continuous_nri, bootstrap_nri\n",
    "import sklearn.metrics as skm\n",
    "import numpy as np\n",
    "import os.path\n",
    "from delong_utils import delong_roc_test\n",
    "\n",
    "preds_descrs={\"1_lab_manualquants_month\": \"lab sequence\", \"1_clinpheno\": \"clinical phenotype\", \"2_lastval\": \"last value\", \"2_sumstats\": \"sumstats\", \"3_twosumstats\": \"eGFR+Cystatin C\", \"3_twosumstats_2\": \"eGFR+UACR\", \"3_otherlabs\": \"other labs\", \"3_registry\": \"registry data\", \"4_all\": \"all data\", \"5_icd\": \"ICD data\", \"5_atc\": \"ATC data\"}\n",
    "metrics = [\"logloss\", \"q10\", \"q25\", \"mae\"]\n",
    "\n",
    "goal_names = {\"y_MEAN_ABNORM\": \"Mean abnormal\", \"y_NEXT_ABNORM\": \"Next abnormal\"}\n",
    "goal_names_extra = {\"y_MEAN_ABNORM\": \"Mean abnormal\", \"y_NEXT_ABNORM\": \"Next abnormal\", \"y_MEAN\": \"Mean\"}\n",
    "filters = {\"All\": True, \n",
    "           \"History\": history_filter, \n",
    "           \"All normal\": no_abnorm_filter|no_history_filter, \n",
    "           \"Last <2020\": lastval_long_filter|no_history_filter, \n",
    "           \"No history\": no_history_filter, \n",
    "           \"30-40\": thirty_filter, \n",
    "           \"40-50\": fourty_filter, \n",
    "           \"50-60\": fifty_filter, \n",
    "           \"60-70\": sixty_filter}\n",
    "\n",
    "set_names = {0: \"Train\", 1: \"Valid\", 2: \"Test\"}\n",
    "train_goal = \"y_MEAN_ABNORM\"\n",
    "\n",
    "metric = \"logloss\"\n",
    "results = pl.DataFrame()\n",
    "\n",
    "options = [\"xgb_\"+metric+\"_\"+pred_descr for pred_descr in preds_descrs for metric in metrics if check_dated_path(\"/home/ivm/valid/data/processed_data/step5_predict/\"+file_descr+\"/\"+train_goals[metric]+\"/xgb_\"+metric+\"_\"+pred_descr+\"/models/\"+lab_name+\"/\")]\n",
    "for pred_descr in preds_descrs:\n",
    "    print((\"/home/ivm/valid/data/processed_data/step5_predict/\"+file_descr+\"/\"+train_goals[metric]+\"/TLSTM_GRU_\"+pred_descr+\"/models/\"+lab_name+\"/\"))\n",
    "    if check_dated_path(\"/home/ivm/valid/data/processed_data/step5_predict/\"+file_descr+\"/\"+train_goals[metric]+\"/TLSTM_GRU_\"+pred_descr+\"/models/\"+lab_name+\"/\"):\n",
    "        options.append(\"TLSTM_GRU_\"+pred_descr)\n",
    "\n",
    "combos = [(x,y) for x in options for y in options if x!=y]\n",
    "no_dups_combos = []\n",
    "for combo_1, combo_2 in combos:\n",
    "    if (combo_2, combo_1) not in no_dups_combos and ((combo_1, combo_2) not in no_dups_combos):\n",
    "        no_dups_combos.append( (combo_1, combo_2) )\n"
   ]
  },
  {
   "cell_type": "markdown",
   "id": "d1ac07c5",
   "metadata": {},
   "source": [
    "## P-values"
   ]
  },
  {
   "cell_type": "markdown",
   "id": "4284ac5c",
   "metadata": {},
   "source": [
    "### AUC"
   ]
  },
  {
   "cell_type": "code",
   "execution_count": null,
   "id": "529b7b7e",
   "metadata": {},
   "outputs": [],
   "source": [
    "\n",
    "        metric = \"logloss\"\n",
    "results = pl.DataFrame()\n",
    "for combo_1, combo_2 in no_dups_combos:\n",
    "    metric_1 = combo_1.split(\"_\")[1]\n",
    "    if metric_1 == \"GRU\": metric_1 = \"logloss\"\n",
    "    file_path_1 = get_dated_path(\"/home/ivm/valid/data/processed_data/step5_predict/\"+file_descr+\"/\"+train_goals[metric_1]+\"/\"+combo_1+\"/models/\"+lab_name+\"/\")\n",
    "    metric_2 = combo_2.split(\"_\")[1]\n",
    "    if metric_2 == \"GRU\": metric_2 = \"logloss\"\n",
    "    file_path_2 = get_dated_path(\"/home/ivm/valid/data/processed_data/step5_predict/\"+file_descr+\"/\"+train_goals[metric_2]+\"/\"+combo_2+\"/models/\"+lab_name+\"/\")\n",
    "\n",
    "    preds_1 = pl.read_parquet(file_path_1)\n",
    "    preds_2 = pl.read_parquet(file_path_2)\n",
    "\n",
    "    if metric_1 == \"logloss\" and metric_2 == \"logloss\":\n",
    "        for set_no in set_names:\n",
    "            descriptors = {\"MODEL_1\": combo_1, \"MODEL_2\": combo_2, \"SET\": set_names[set_no]}\n",
    "            for crnt_filter_name in {\"History\": history_filter}:\n",
    "                descriptors[\"FILTER\"] = crnt_filter_name\n",
    "\n",
    "                for goal_name in goal_names:\n",
    "                    preds = preds_1.select(\"FINNGENID\", \"SET\", \"EVENT_AGE\", goal_name, \"ABNORM_PROBS\").join(preds_2.select(\"FINNGENID\", \"ABNORM_PROBS\"), on=\"FINNGENID\", how=\"left\")\n",
    "                    crnt_preds = preds.filter(pl.col.SET==set_no).filter(filters[crnt_filter_name])\n",
    "\n",
    "                    ### P-values for AUCs with DeLong\n",
    "                    pval_diff = 10**delong_roc_test(crnt_preds[goal_name].to_numpy(), crnt_preds[\"ABNORM_PROBS\"].to_numpy(), crnt_preds[\"ABNORM_PROBS_right\"].to_numpy())[0]\n",
    "                    descriptors[goal_name+\"_AUCDiff_Pvalue\"]=pval_diff\n",
    "\n",
    "                    ### P-values for Average Precision with Bootstrapping\n",
    "                    diff_est, lowci, highci, pval_diff, avg_1, avg_2 = bootstrap_difference(metric_func = (skm.average_precision_score),\n",
    "                                                                              preds_1=crnt_preds[\"ABNORM_PROBS\"].to_numpy(), \n",
    "                                                                              preds_2=crnt_preds[\"ABNORM_PROBS_right\"].to_numpy(),\n",
    "                                                                              obs=crnt_preds[goal_name].to_numpy(),\n",
    "                                                                              n_boots=100)\n",
    "                    descriptors[goal_name+\"_AvgPrecDiff_Pvalue\"]=pval_diff\n",
    "\n",
    "                    ### NRI with CI measure of if new model is better at reclassification <0 -> worst and >0 -> better\n",
    "                    nri, lowci, highci = bootstrap_nri(continuous_nri, \n",
    "                                                       crnt_preds[goal_name].to_numpy(), \n",
    "                                                       crnt_preds[\"ABNORM_PROBS\"].to_numpy(),\n",
    "                                                       crnt_preds[\"ABNORM_PROBS_right\"].to_numpy(),\n",
    "                                                       n_boots=100)\n",
    "                    descriptors[goal_name+\"_NRI\"]=nri\n",
    "                    descriptors[goal_name+\"_NRI_CI\"]=\"(\"+str(round(lowci, 2))+ \"-\"+ str(round(highci, 2)) + \")\"\n",
    "\n",
    "                results = pl.concat([results, pl.DataFrame(descriptors)])\n",
    "    display(results)\n",
    "results.write_csv(\"/home/ivm/valid/results/model_evals/\"+lab_name+\"/\"+lab_name+\"_\"+file_descr+\"_aucetc_pvals_\"+get_date()+\".csv\")\n"
   ]
  },
  {
   "cell_type": "markdown",
   "id": "c390c016",
   "metadata": {},
   "source": [
    "### F1s"
   ]
  },
  {
   "cell_type": "code",
   "execution_count": null,
   "id": "e15bfa21",
   "metadata": {},
   "outputs": [],
   "source": [
    "\n",
    "results = pl.DataFrame()\n",
    "\n",
    "for combo_1, combo_2 in no_dups_combos:\n",
    "    metric_1 = combo_1.split(\"_\")[1]\n",
    "    if metric_1 == \"GRU\": metric_1 = \"logloss\"\n",
    "    file_path_1 = get_dated_path(\"/home/ivm/valid/data/processed_data/step5_predict/\"+file_descr+\"/\"+train_goals[metric_1]+\"/\"+combo_1+\"/models/\"+lab_name+\"/\")\n",
    "    metric_2 = combo_2.split(\"_\")[1]\n",
    "    if metric_2 == \"GRU\": metric_2 = \"logloss\"\n",
    "    file_path_2 = get_dated_path(\"/home/ivm/valid/data/processed_data/step5_predict/\"+file_descr+\"/\"+train_goals[metric_2]+\"/\"+combo_2+\"/models/\"+lab_name+\"/\")\n",
    "\n",
    "    if metric_1 != \"logloss\" or metric_2 != \"logloss\":\n",
    "        preds_1 = pl.read_parquet(file_path_1)\n",
    "        preds_2 = pl.read_parquet(file_path_2)\n",
    "        # Binarizing based on training with train goal\n",
    "        if metric_1 == \"logloss\":\n",
    "            precision_, recall_, proba = skm.precision_recall_curve(preds_1.filter(pl.col.SET==0)[train_goal], preds_1.filter(pl.col.SET==0)[\"ABNORM_PROBS\"])\n",
    "            optimal_proba_cutoff_1 = sorted(list(zip(np.abs(precision_ - recall_), proba)), key=lambda i: i[0], reverse=False)[0][1]\n",
    "            preds_1 = preds_1.with_columns((pl.col.ABNORM_PROBS>optimal_proba_cutoff_1).alias(\"ABNORM_PREDS\"))\n",
    "        # Binarizing based on training with train goal\n",
    "        if metric_2 == \"logloss\":\n",
    "            precision_, recall_, proba = skm.precision_recall_curve(preds_2.filter(pl.col.SET==0)[train_goal], preds_2.filter(pl.col.SET==0)[\"ABNORM_PROBS\"])\n",
    "            optimal_proba_cutoff_2 = sorted(list(zip(np.abs(precision_ - recall_), proba)), key=lambda i: i[0], reverse=False)[0][1]\n",
    "            preds_2 = preds_2.with_columns((pl.col.ABNORM_PROBS>optimal_proba_cutoff_2).alias(\"ABNORM_PREDS\"))\n",
    "    \n",
    "            \n",
    "        for crnt_filter_name in filters:\n",
    "            for set_no in set_names:\n",
    "                descriptors = {\"MODEL_1\": combo_1, \"CUT_1\": optimal_proba_cutoff_1,  \"MODEL_2\": combo_2,\"CUT_2\": optimal_proba_cutoff_2, \"SET\": set_names[set_no]}\n",
    "                for goal_name in goal_names:\n",
    "                    preds = preds_1.select(\"FINNGENID\", \"SET\", \"EVENT_AGE\", goal_name, \"ABNORM_PREDS\").join(preds_2.select(\"FINNGENID\", \"ABNORM_PREDS\"), on=\"FINNGENID\", how=\"left\")\n",
    "                    crnt_preds = preds.filter(pl.col.SET==set_no).filter(filters[crnt_filter_name])\n",
    "                    N_cases_1 = crnt_preds[\"ABNORM_PREDS\"].sum()\n",
    "                    if N_cases_1 < 5:\n",
    "                        N_cases_1 = 0\n",
    "                        crnt_preds = crnt_preds.with_columns((pl.lit(0)*crnt_preds.height).alias(\"ABNORM_PREDS\"))\n",
    "                    descriptors[goal_name+\"_N_CASE_MODEL_1\"] = N_cases_1\n",
    "    \n",
    "                    N_cases_2 = crnt_preds[\"ABNORM_PREDS_right\"].sum()\n",
    "                    if N_cases_2 < 5:\n",
    "                        N_cases_2 = 0\n",
    "                        crnt_preds = crnt_preds.with_columns((pl.lit(0)*crnt_preds.height).alias(\"ABNORM_PREDS_right\"))\n",
    "                    descriptors[goal_name+\"_N_CASE_MODEL_2\"] = N_cases_2\n",
    "                        \n",
    "                    diff_est, lowci, highci, pval_diff, f1_1, f1_2 = bootstrap_difference(metric_func = (lambda x, y: skm.f1_score(x, y, average=\"macro\", zero_division=0)),\n",
    "                                                                                  preds_1=crnt_preds[\"ABNORM_PREDS\"].to_numpy(), \n",
    "                                                                                  preds_2=crnt_preds[\"ABNORM_PREDS_right\"].to_numpy(),\n",
    "                                                                                  obs=crnt_preds[goal_name].to_numpy(),\n",
    "                                                                                  n_boots=100)\n",
    "                    descriptors[\"FILTER\"] = crnt_filter_name\n",
    "                    descriptors[goal_name+\"_F1Diff\"]=diff_est\n",
    "                    descriptors[goal_name+\"_F1Diff_CI\"]=\"(\"+str(round(lowci, 2))+ \"-\"+ str(round(highci, 2)) + \")\"\n",
    "                    descriptors[goal_name+\"_F1Diff_Pvalue\"]=pval_diff\n",
    "    \n",
    "                    diff_est, lowci, highci, pval_diff, f1_1, f1_2 = bootstrap_difference(metric_func = (lambda x, y: skm.precision_score(x, y, average=\"macro\", zero_division=0)),\n",
    "                                                                                  preds_1=crnt_preds[\"ABNORM_PREDS\"].to_numpy(), \n",
    "                                                                                  preds_2=crnt_preds[\"ABNORM_PREDS_right\"].to_numpy(),\n",
    "                                                                                  obs=crnt_preds[goal_name].to_numpy(),\n",
    "                                                                                  n_boots=100)\n",
    "                    descriptors[goal_name+\"_PrecisionDiff\"]=diff_est\n",
    "                    descriptors[goal_name+\"_PrecisionDiff_CI\"]=\"(\"+str(round(lowci, 2))+ \"-\"+ str(round(highci, 2)) + \")\"\n",
    "                    descriptors[goal_name+\"_PrecisionDiff_Pvalue\"]=pval_diff\n",
    "    \n",
    "                    diff_est, lowci, highci, pval_diff, f1_1, f1_2 = bootstrap_difference(metric_func = (lambda x, y: skm.recall_score(x, y, average=\"macro\", zero_division=0)),\n",
    "                                                                                  preds_1=crnt_preds[\"ABNORM_PREDS\"].to_numpy(), \n",
    "                                                                                  preds_2=crnt_preds[\"ABNORM_PREDS_right\"].to_numpy(),\n",
    "                                                                                  obs=crnt_preds[goal_name].to_numpy(),\n",
    "                                                                                  n_boots=100)\n",
    "                    descriptors[goal_name+\"_RecallDiff\"]=diff_est\n",
    "                    descriptors[goal_name+\"_RecallDiff_CI\"]=\"(\"+str(round(lowci, 2))+ \"-\"+ str(round(highci, 2)) + \")\"\n",
    "                    descriptors[goal_name+\"_RecallDiff_Pvalue\"]=pval_diff\n",
    "    \n",
    "                results = pl.concat([results, pl.DataFrame(descriptors)])\n",
    "        display(results)\n",
    "results.write_csv(\"/home/ivm/valid/results/model_evals/\"+lab_name+\"/\"+lab_name+\"_\"+file_descr+\"_f1etc_pvals_\"+get_date()+\".csv\")\n"
   ]
  },
  {
   "cell_type": "markdown",
   "id": "3ba5cc11",
   "metadata": {},
   "source": [
    "## AUCs"
   ]
  },
  {
   "cell_type": "markdown",
   "id": "de3ed2d0",
   "metadata": {},
   "source": [
    "### All"
   ]
  },
  {
   "cell_type": "code",
   "execution_count": null,
   "id": "73465847",
   "metadata": {},
   "outputs": [],
   "source": [
    "\n",
    "results = pl.DataFrame()\n",
    "\n",
    "for crnt_option in options:\n",
    "    ### Getting info\n",
    "    metric = crnt_option.split(\"_\")[1]\n",
    "    if metric == \"GRU\": metric = \"logloss\"\n",
    "    if metric != \"logloss\": continue\n",
    "    mdl_name = crnt_option.split(\"_\")[0]\n",
    "    crnt_pred_descr = \"_\".join([elem for elem in crnt_option.split(\"_\") if elem not in [\"xgb\", \"GRU\", \"logloss\", \"TLSTM\", \"mae\", \"q75\", \"q10\", \"q25\"]])\n",
    "        \n",
    "    # Getting data\n",
    "    file_path = get_dated_path(\"/home/ivm/valid/data/processed_data/step5_predict/\"+file_descr+\"/\"+train_goals[metric]+\"/\"+crnt_option+\"/models/\"+lab_name+\"/\")\n",
    "    if not file_path: continue\n",
    "    date = file_path.split(\".\")[0].split(\"preds_\")[1]\n",
    "    preds = pl.read_parquet(file_path)\n",
    "\n",
    "    mdl_name = crnt_option.split(\"_\")[0]\n",
    "    crnt_pred_descr = \"_\".join([elem for elem in crnt_option.split(\"_\") if elem not in [\"xgb\", \"GRU\", \"logloss\", \"TLSTM\", \"mae\", \"q75\", \"q10\", \"q25\"]])\n",
    "    descriptors = {\"Date\": date, \n",
    "                   \"Model\": mdl_name, \n",
    "                   \"File Description\": file_descr, \n",
    "                   \"Predictors\": preds_descrs[crnt_pred_descr],\n",
    "                   \"Outcome\": goal_names[train_goal]}\n",
    "    \n",
    "    for set_no in set_names.keys():\n",
    "        descriptors[\"SET\"] = set_names[set_no]\n",
    "        for goal in [\"y_MEAN_ABNORM\", \"y_NEXT_ABNORM\"]:\n",
    "            N_total = preds.filter(pl.col.SET==set_no).height\n",
    "            N_cases = preds.filter(pl.col.SET==set_no).filter(pl.col(goal)==1).height\n",
    "            descriptors[goal+\"_N\"] = N_cases\n",
    "            AUC = bootstrap_metric(skm.roc_auc_score, \n",
    "                                   preds.filter(pl.col.SET==set_no)[goal],\n",
    "                                   preds.filter(pl.col.SET==set_no)[\"ABNORM_PROBS\"],\n",
    "                                   n_boots=100)\n",
    "            descriptors[goal+\"_AUC\"] = AUC[0]\n",
    "            descriptors[goal+\"_AUC_CI\"] = \"(\"+str(round(AUC[1], 2))+ \"-\"+ str(round(AUC[2], 2)) + \")\"\n",
    "    \n",
    "            averagePrec = bootstrap_metric(skm.average_precision_score, \n",
    "                                   preds.filter(pl.col.SET==set_no)[goal],\n",
    "                                   preds.filter(pl.col.SET==set_no)[\"ABNORM_PROBS\"],\n",
    "                                   n_boots=100)\n",
    "            descriptors[goal+\"_avgPrec\"] = averagePrec[0]\n",
    "            descriptors[goal+\"_avgPrec_CI\"] = \"(\"+str(round(averagePrec[1], 2))+ \"-\"+ str(round(averagePrec[2], 2)) + \")\"\n",
    "\n",
    "            descriptors[goal+\"_Brier\"] = skm.brier_score_loss(preds.filter(pl.col.SET==set_no)[goal], preds.filter(pl.col.SET==set_no)[\"ABNORM_PROBS\"])\n",
    "    \n",
    "        results = pl.concat([results, pl.DataFrame(descriptors)])\n",
    "display(results)\n",
    "results.write_csv(\"/home/ivm/valid/results/model_evals/\"+lab_name+\"/\"+lab_name+\"_\"+file_descr+\"_aucsetc_\"+get_date()+\".csv\")\n"
   ]
  },
  {
   "cell_type": "markdown",
   "id": "5e4d1543",
   "metadata": {},
   "source": [
    "### Filtered"
   ]
  },
  {
   "cell_type": "code",
   "execution_count": null,
   "id": "853b90d8",
   "metadata": {},
   "outputs": [],
   "source": [
    "\n",
    "results = pl.DataFrame()\n",
    "\n",
    "for crnt_option in options:\n",
    "    ### Getting info\n",
    "    metric = crnt_option.split(\"_\")[1]\n",
    "    if metric == \"GRU\": metric = \"logloss\"\n",
    "    if metric != \"logloss\": continue\n",
    "\n",
    "    mdl_name = crnt_option.split(\"_\")[0]\n",
    "    crnt_pred_descr = \"_\".join([elem for elem in crnt_option.split(\"_\") if elem not in [\"xgb\", \"GRU\", \"logloss\", \"TLSTM\", \"mae\", \"q75\", \"q10\", \"q25\"]])\n",
    "        \n",
    "    # Getting data\n",
    "    file_path = get_dated_path(\"/home/ivm/valid/data/processed_data/step5_predict/\"+file_descr+\"/\"+train_goals[metric]+\"/\"+crnt_option+\"/models/\"+lab_name+\"/\")\n",
    "    if not file_path: continue\n",
    "    date = file_path.split(\".\")[0].split(\"preds_\")[1]\n",
    "    preds = pl.read_parquet(file_path)\n",
    "\n",
    "    mdl_name = crnt_option.split(\"_\")[0]\n",
    "    crnt_pred_descr = \"_\".join([elem for elem in crnt_option.split(\"_\") if elem not in [\"xgb\", \"GRU\", \"logloss\", \"TLSTM\", \"mae\", \"q75\", \"q10\", \"q25\"]])\n",
    "    descriptors = {\"Date\": date, \n",
    "                   \"Model\": mdl_name, \n",
    "                   \"File Description\": file_descr, \n",
    "                   \"Predictors\": preds_descrs[crnt_pred_descr],\n",
    "                   \"Outcome\": goal_names[train_goal]}\n",
    "    \n",
    "    for set_no in set_names.keys():\n",
    "        descriptors[\"SET\"] = set_names[set_no]\n",
    "        for crnt_filter in filters.keys():\n",
    "            crnt_preds = preds.filter(pl.col.SET==set_no).filter(filters[crnt_filter])\n",
    "            N_total = crnt_preds.filter(pl.col.SET==set_no).height\n",
    "            N_cases = crnt_preds.filter(pl.col.SET==set_no).filter(pl.col(goal)==1).height\n",
    "            descriptors[crnt_filter+\"_N\"] = N_cases\n",
    "            AUC = bootstrap_metric(skm.roc_auc_score, \n",
    "                                   crnt_preds.filter(pl.col.SET==set_no)[goal],\n",
    "                                   crnt_preds.filter(pl.col.SET==set_no)[\"ABNORM_PROBS\"],\n",
    "                                   n_boots=100)\n",
    "            descriptors[crnt_filter+\"_AUC\"] = AUC[0]\n",
    "            descriptors[crnt_filter+\"_AUC_CI\"] = \"(\"+str(round(AUC[1], 2))+ \"-\"+ str(round(AUC[2], 2)) + \")\"\n",
    "    \n",
    "            averagePrec = bootstrap_metric(skm.average_precision_score, \n",
    "                                   crnt_preds.filter(pl.col.SET==set_no)[goal],\n",
    "                                   crnt_preds.filter(pl.col.SET==set_no)[\"ABNORM_PROBS\"],\n",
    "                                   n_boots=100)\n",
    "            descriptors[crnt_filter+\"_avgPrec\"] = averagePrec[0]\n",
    "            descriptors[crnt_filter+\"_avgPrec_CI\"] = \"(\"+str(round(averagePrec[1], 2))+ \"-\"+ str(round(averagePrec[2], 2)) + \")\"\n",
    "\n",
    "\n",
    "            descriptors[goal+\"_Brier\"] = skm.brier_score_loss(preds.filter(pl.col.SET==set_no)[goal], \n",
    "                                                              preds.filter(pl.col.SET==set_no)[\"ABNORM_PROBS\"])\n",
    "    \n",
    "        results = pl.concat([results, pl.DataFrame(descriptors)])\n",
    "display(results)\n",
    "results.write_csv(\"/home/ivm/valid/results/model_evals/\"+lab_name+\"/\"+lab_name+\"_\"+file_descr+\"_aucsetc_filtered_\"+get_date()+\".csv\")\n"
   ]
  },
  {
   "cell_type": "markdown",
   "id": "07154ec6",
   "metadata": {},
   "source": [
    "## F1s"
   ]
  },
  {
   "cell_type": "markdown",
   "id": "17f1bc7e",
   "metadata": {},
   "source": [
    "### All"
   ]
  },
  {
   "cell_type": "code",
   "execution_count": null,
   "id": "56501a21",
   "metadata": {},
   "outputs": [],
   "source": [
    "\n",
    "results = pl.DataFrame()\n",
    "\n",
    "for crnt_option in options:\n",
    "    ### Getting info\n",
    "    metric = crnt_option.split(\"_\")[1]\n",
    "    if metric == \"GRU\": metric = \"logloss\"\n",
    "    mdl_name = crnt_option.split(\"_\")[0]\n",
    "    crnt_pred_descr = \"_\".join([elem for elem in crnt_option.split(\"_\") if elem not in [\"xgb\", \"GRU\", \"logloss\", \"TLSTM\", \"mae\", \"q75\", \"q10\", \"q25\"]])\n",
    "        \n",
    "    # Getting data\n",
    "    file_path = get_dated_path(\"/home/ivm/valid/data/processed_data/step5_predict/\"+file_descr+\"/\"+train_goals[metric]+\"/\"+crnt_option+\"/models/\"+lab_name+\"/\")\n",
    "    if not file_path: continue\n",
    "    date = file_path.split(\".\")[0].split(\"preds_\")[1]\n",
    "    preds = pl.read_parquet(file_path)\n",
    "    \n",
    "    # Binarizing based on training with train goal\n",
    "    if metric == \"logloss\":\n",
    "        precision_, recall_, proba = skm.precision_recall_curve(preds.filter(pl.col.SET==0)[train_goal], preds.filter(pl.col.SET==0)[\"ABNORM_PROBS\"])\n",
    "        optimal_proba_cutoff = sorted(list(zip(np.abs(precision_ - recall_), proba)), key=lambda i: i[0], reverse=False)[0][1]\n",
    "    else:\n",
    "        optimal_proba_cutoff = None\n",
    "\n",
    "    # Binarizing\n",
    "    descriptors = {\"Date\": date, \n",
    "                       \"Model\": mdl_name, \n",
    "                       \"File Description\": file_descr, \n",
    "                       \"Predictors\": preds_descrs[crnt_pred_descr],\n",
    "                       \"Outcome\": goal_names[train_goal],\n",
    "                       \"Metric\": metric,\n",
    "                       \"Cut-off\": optimal_proba_cutoff}\n",
    "    #### Goint through sets\n",
    "    for set_no in set_names.keys():\n",
    "        descriptors[\"SET\"] = set_names[set_no]\n",
    "        #### And different goals for prediction\n",
    "        for goal in [\"y_MEAN_ABNORM\", \"y_NEXT_ABNORM\"]:\n",
    "            crnt_preds = preds.filter(pl.col.SET==set_no)\n",
    "            if metric == \"logloss\":\n",
    "                case_preds = crnt_preds[\"ABNORM_PROBS\"]>optimal_proba_cutoff\n",
    "            else:\n",
    "                case_preds = crnt_preds[\"ABNORM_PREDS\"]\n",
    "                \n",
    "            N_total = crnt_preds.height\n",
    "            N_cases = crnt_preds.filter(pl.col(goal)==1).height\n",
    "            N_true = np.logical_and(crnt_preds[goal].to_numpy(), case_preds.to_numpy()).sum()\n",
    "            if N_true < 5: \n",
    "                N_true = 0\n",
    "                case_preds = np.zeros(N_total)\n",
    "            descriptors[goal+\"_N\"] = N_cases\n",
    "            descriptors[goal+\"_NTP\"] = N_true\n",
    "    \n",
    "            F1 = bootstrap_metric(lambda x, y: skm.f1_score(x, y, average=\"macro\", zero_division=0), \n",
    "                                           crnt_preds[goal],\n",
    "                                           case_preds,\n",
    "                                           n_boots=100)\n",
    "            descriptors[goal+\"_F1\"] = F1[0]\n",
    "            descriptors[goal+\"_F1_CI\"] = \"(\"+str(round(F1[1], 2))+ \"-\"+ str(round(F1[2], 2)) + \")\"\n",
    "            \n",
    "            precision = bootstrap_metric(lambda x, y: skm.precision_score(x, y, average=\"macro\", zero_division=0), \n",
    "                                           crnt_preds[goal],\n",
    "                                           case_preds,\n",
    "                                           n_boots=100)\n",
    "            descriptors[goal+\"_Precision\"] = precision[0]\n",
    "            descriptors[goal+\"_Precision_CI\"] = \"(\"+str(round(precision[1], 2))+ \"-\"+ str(round(precision[2], 2)) + \")\"\n",
    "        \n",
    "            recall = bootstrap_metric(lambda x, y: skm.recall_score(x, y, average=\"macro\", zero_division=0), \n",
    "                                           crnt_preds[goal],\n",
    "                                           case_preds,\n",
    "                                           n_boots=100)\n",
    "            descriptors[goal+\"_Recall\"] = recall[0]\n",
    "            descriptors[goal+\"_Recall_CI\"] = \"(\"+str(round(recall[1], 2))+ \"-\"+ str(round(recall[2], 2)) + \")\"\n",
    "\n",
    "        results = pl.concat([results, pl.DataFrame(descriptors)])\n",
    "    display(results)\n",
    "results.write_csv(\"/home/ivm/valid/results/model_evals/\"+lab_name+\"/\"+lab_name+\"_\"+file_descr+\"_f1setc_\"+get_date()+\".csv\")\n"
   ]
  },
  {
   "cell_type": "markdown",
   "id": "44201a48",
   "metadata": {},
   "source": [
    "### Filtered"
   ]
  },
  {
   "cell_type": "code",
   "execution_count": null,
   "id": "5108d358",
   "metadata": {},
   "outputs": [],
   "source": [
    "\n",
    "results = pl.DataFrame()\n",
    "\n",
    "for crnt_option in options:\n",
    "    ### Getting info\n",
    "    metric = crnt_option.split(\"_\")[1]\n",
    "    if metric == \"GRU\": metric = \"logloss\"\n",
    "    mdl_name = crnt_option.split(\"_\")[0]\n",
    "    crnt_pred_descr = \"_\".join([elem for elem in crnt_option.split(\"_\") if elem not in [\"xgb\", \"GRU\", \"logloss\", \"TLSTM\", \"mae\", \"q75\", \"q10\", \"q25\"]])\n",
    "        \n",
    "    # Getting data\n",
    "    file_path = get_dated_path(\"/home/ivm/valid/data/processed_data/step5_predict/\"+file_descr+\"/\"+train_goals[metric]+\"/\"+crnt_option+\"/models/\"+lab_name+\"/\")\n",
    "    if not file_path: continue\n",
    "    date = file_path.split(\".\")[0].split(\"preds_\")[1]\n",
    "    preds = pl.read_parquet(file_path)\n",
    "    \n",
    "    # Binarizing based on training with train goal\n",
    "    if metric == \"logloss\":\n",
    "        precision_, recall_, proba = skm.precision_recall_curve(preds.filter(pl.col.SET==0)[train_goal], preds.filter(pl.col.SET==0)[\"ABNORM_PROBS\"])\n",
    "        optimal_proba_cutoff = sorted(list(zip(np.abs(precision_ - recall_), proba)), key=lambda i: i[0], reverse=False)[0][1]\n",
    "    else:\n",
    "        optimal_proba_cutoff = None\n",
    "\n",
    "    # Binarizing\n",
    "    descriptors = {\"Date\": date, \n",
    "                       \"Model\": mdl_name, \n",
    "                       \"File Description\": file_descr, \n",
    "                       \"Predictors\": preds_descrs[crnt_pred_descr],\n",
    "                       \"Outcome\": goal_names[train_goal],\n",
    "                       \"Metric\": metric,\n",
    "                       \"Cut-off\": optimal_proba_cutoff}\n",
    "    #### Goint through sets\n",
    "    for set_no in set_names.keys():\n",
    "        for crnt_filter in filters.keys():\n",
    "            crnt_preds = preds.filter(pl.col.SET==set_no).filter(filters[crnt_filter])\n",
    "            if metric == \"logloss\":\n",
    "                case_preds = crnt_preds[\"ABNORM_PROBS\"]>optimal_proba_cutoff\n",
    "            else:\n",
    "                case_preds = crnt_preds[\"ABNORM_PREDS\"]\n",
    "        \n",
    "            descriptors[\"SET\"] = set_names[set_no]\n",
    "            N_total = crnt_preds.height\n",
    "            N_cases = crnt_preds.filter(pl.col(goal)==1).height\n",
    "            N_true = np.logical_and(crnt_preds[goal].to_numpy(), case_preds.to_numpy()).sum()\n",
    "            if N_true < 5: \n",
    "                N_true = 0\n",
    "                case_preds = np.zeros(N_total)  \n",
    "            descriptors[crnt_filter+\"_N\"] = N_cases\n",
    "            descriptors[crnt_filter+\"_NTP\"] = N_true\n",
    "    \n",
    "            F1 = bootstrap_metric(lambda x, y: skm.f1_score(x, y, average=\"macro\", zero_division=0), \n",
    "                                      crnt_preds[goal],\n",
    "                                      case_preds,\n",
    "                                      n_boots=100)\n",
    "            descriptors[crnt_filter+\"_F1\"] = F1[0]\n",
    "            descriptors[crnt_filter+\"_F1_CI\"] = \"(\"+str(round(F1[1], 2))+ \"-\"+ str(round(F1[2], 2)) + \")\"\n",
    "            \n",
    "            precision = bootstrap_metric(lambda x, y: skm.precision_score(x, y, average=\"macro\", zero_division=0), \n",
    "                                             crnt_preds[goal],\n",
    "                                             case_preds,\n",
    "                                             n_boots=100)\n",
    "            descriptors[crnt_filter+\"_Precision\"] = precision[0]\n",
    "            descriptors[crnt_filter+\"_Precision_CI\"] = \"(\"+str(round(precision[1], 2))+ \"-\"+ str(round(precision[2], 2)) + \")\"\n",
    "        \n",
    "            recall = bootstrap_metric(lambda x, y: skm.recall_score(x, y, average=\"macro\", zero_division=0), \n",
    "                                          crnt_preds[goal],\n",
    "                                          case_preds,\n",
    "                                          n_boots=100)\n",
    "            descriptors[crnt_filter+\"_Recall\"] = recall[0]\n",
    "            descriptors[crnt_filter+\"_Recall_CI\"] = \"(\"+str(round(recall[1], 2))+ \"-\"+ str(round(recall[2], 2)) + \")\"\n",
    "        results = pl.concat([results, pl.DataFrame(descriptors)])\n",
    "    display(results)\n",
    "results.write_csv(\"/home/ivm/valid/results/model_evals/\"+lab_name+\"/\"+lab_name+\"_\"+file_descr+\"_f1setc_filtered_\"+get_date()+\".csv\")"
   ]
  }
 ],
 "metadata": {
  "kernelspec": {
   "display_name": "valid_env",
   "language": "python",
   "name": "python3"
  },
  "language_info": {
   "codemirror_mode": {
    "name": "ipython",
    "version": 3
   },
   "file_extension": ".py",
   "mimetype": "text/x-python",
   "name": "python",
   "nbconvert_exporter": "python",
   "pygments_lexer": "ipython3",
   "version": "3.12.10"
  }
 },
 "nbformat": 4,
 "nbformat_minor": 5
}
